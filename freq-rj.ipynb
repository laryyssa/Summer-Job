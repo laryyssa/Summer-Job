{
 "cells": [
  {
   "cell_type": "code",
   "execution_count": 2,
   "metadata": {},
   "outputs": [],
   "source": [
    "import pandas as pd\n",
    "import plotly.express as px\n",
    "import plotly.graph_objs as go\n",
    "import numpy as np\n",
    "from datetime import datetime"
   ]
  },
  {
   "cell_type": "markdown",
   "metadata": {},
   "source": [
    "Filtro de pontos de ônibus que possuem uma freqência maior que 5 ônibus por hora nos horários de pico (7H-10H) e (17H-20H) "
   ]
  },
  {
   "cell_type": "code",
   "execution_count": 3,
   "metadata": {},
   "outputs": [
    {
     "name": "stdout",
     "output_type": "stream",
     "text": [
      "trip_id                        object\n",
      "stop_sequence                   int64\n",
      "stop_id                        object\n",
      "arrival_time           datetime64[ns]\n",
      "departure_time                 object\n",
      "shape_dist_traveled           float64\n",
      "timepoint                       int64\n",
      "hour                            int64\n",
      "dtype: object\n"
     ]
    }
   ],
   "source": [
    "stop_times = pd.read_csv('dados/rio_de_janeiro/stop_times.txt', sep=',')\n",
    "stop_times['arrival_time'] = pd.to_datetime(stop_times['arrival_time'])\n",
    "stop_times['hour'] = stop_times['arrival_time'].dt.hour\n",
    "print(stop_times.dtypes)"
   ]
  },
  {
   "cell_type": "code",
   "execution_count": 4,
   "metadata": {},
   "outputs": [
    {
     "name": "stdout",
     "output_type": "stream",
     "text": [
      "<bound method NDFrame.describe of               stop_id stop_code  \\\n",
      "0        1001O00006C0       NaN   \n",
      "1        1002O00001C0       NaN   \n",
      "2        1002O00004C0       NaN   \n",
      "3        1002O00007C0       NaN   \n",
      "4        1002O00008C0       NaN   \n",
      "...               ...       ...   \n",
      "6892  533135204004641       NaN   \n",
      "6893             r3oy       NaN   \n",
      "6894  424128200022540       NaN   \n",
      "6895  416115204000182       NaN   \n",
      "6896  424128204000272       NaN   \n",
      "\n",
      "                                            stop_name  \\\n",
      "0                Avenida Barão de Tefé,  oposto ao 99   \n",
      "1                          Rua Rivadávia Corrêa , 187   \n",
      "2             Rua Rivadávia Corrêa próximo ao 227-247   \n",
      "3                          Rua Camerino próximo ao 32   \n",
      "4                    Rua Bento Ribeiro próximo ao 104   \n",
      "...                                               ...   \n",
      "6892             Terminal Sulacap :: Plataforma BRT B   \n",
      "6893             Terminal Sulacap :: Plataforma BRT A   \n",
      "6894  Terminal Alvorada :: Plataforma A (Desembarque)   \n",
      "6895                                 Morro do Outeiro   \n",
      "6896                                       Olof Palme   \n",
      "\n",
      "                       stop_desc   stop_lat   stop_lon  zone_id  stop_url  \\\n",
      "0                            NaN -22.897310 -43.187370      NaN       NaN   \n",
      "1                            NaN -22.897970 -43.195400      NaN       NaN   \n",
      "2                            NaN -22.895410 -43.196400      NaN       NaN   \n",
      "3                            NaN -22.898400 -43.187730      NaN       NaN   \n",
      "4                            NaN -22.900640 -43.192960      NaN       NaN   \n",
      "...                          ...        ...        ...      ...       ...   \n",
      "6892                         NaN -22.884540 -43.399930      NaN       NaN   \n",
      "6893                         NaN -22.884607 -43.399428      NaN       NaN   \n",
      "6894                         NaN -23.001077 -43.364809      NaN       NaN   \n",
      "6895  Sentido Recreio - Expresso -22.970360 -43.400400      NaN       NaN   \n",
      "6896   Sentido Recreio - Parador -22.981770 -43.410260      NaN       NaN   \n",
      "\n",
      "      location_type   parent_station  stop_timezone  wheelchair_boarding  \\\n",
      "0               0.0              NaN            NaN                  NaN   \n",
      "1               0.0              NaN            NaN                  NaN   \n",
      "2               0.0              NaN            NaN                  NaN   \n",
      "3               0.0              NaN            NaN                  NaN   \n",
      "4               0.0              NaN            NaN                  NaN   \n",
      "...             ...              ...            ...                  ...   \n",
      "6892            0.0     5135BL0001T9            NaN                  NaN   \n",
      "6893            0.0     5135BL0001T9            NaN                  NaN   \n",
      "6894            0.0     4128BO0010T9            NaN                  NaN   \n",
      "6895            0.0  416115204000100            NaN                  NaN   \n",
      "6896            0.0  424128204000200            NaN                  NaN   \n",
      "\n",
      "     platform_code  \n",
      "0              NaN  \n",
      "1              NaN  \n",
      "2              NaN  \n",
      "3              NaN  \n",
      "4              NaN  \n",
      "...            ...  \n",
      "6892           NaN  \n",
      "6893           NaN  \n",
      "6894           NaN  \n",
      "6895           NaN  \n",
      "6896           NaN  \n",
      "\n",
      "[6897 rows x 13 columns]>\n"
     ]
    }
   ],
   "source": [
    "stops = pd.read_csv('dados/rio_de_janeiro/stops.txt', sep=',')\n",
    "print(stops.describe)"
   ]
  },
  {
   "cell_type": "code",
   "execution_count": 5,
   "metadata": {},
   "outputs": [
    {
     "name": "stdout",
     "output_type": "stream",
     "text": [
      "trip_id                        object\n",
      "stop_sequence                   int64\n",
      "stop_id                        object\n",
      "arrival_time           datetime64[ns]\n",
      "departure_time                 object\n",
      "shape_dist_traveled           float64\n",
      "timepoint                       int64\n",
      "hour                            int64\n",
      "stop_code                      object\n",
      "stop_name                      object\n",
      "stop_desc                      object\n",
      "stop_lat                      float64\n",
      "stop_lon                      float64\n",
      "zone_id                       float64\n",
      "stop_url                      float64\n",
      "location_type                 float64\n",
      "parent_station                 object\n",
      "stop_timezone                 float64\n",
      "wheelchair_boarding           float64\n",
      "platform_code                  object\n",
      "dtype: object\n"
     ]
    }
   ],
   "source": [
    "events = pd.merge(stop_times, stops, on='stop_id')\n",
    "print(events.dtypes)"
   ]
  },
  {
   "cell_type": "code",
   "execution_count": null,
   "metadata": {},
   "outputs": [],
   "source": [
    "frequencies = pd.read_csv('dados/rio_de_janeiro/frequencies.txt', sep=',')\n",
    "\n",
    "frequencies['start_time'] = frequencies['start_time'].str.replace(r'(?<=\\d) 24:', ' 00:', regex=True)\n",
    "frequencies['start_time'] = pd.to_datetime(frequencies['start_time'])\n",
    "\n",
    "print(frequencies['start_time'].head())\n",
    "\n",
    "#frequencies['freq'] = (3600/frequencies['headway_secs']) * frequencies['service_time']\n"
   ]
  },
  {
   "cell_type": "code",
   "execution_count": 8,
   "metadata": {},
   "outputs": [
    {
     "name": "stdout",
     "output_type": "stream",
     "text": [
      "        stop_id  qtd_onibus\n",
      "0  1001O00006C0         120\n",
      "1  1002O00001C0          58\n",
      "2  1002O00004C0          58\n",
      "3  1002O00007C0         119\n",
      "4  1002O00008C0          58\n"
     ]
    }
   ],
   "source": [
    "events_morning = events.loc[(events['hour'] >= 0)].groupby('stop_id', as_index=False).count()\n",
    "events_morning = events_morning[['stop_id', 'trip_id']]\n",
    "events_morning = events_morning.rename(columns={'trip_id': 'qtd_onibus'})\n",
    "print(events_morning.head())"
   ]
  },
  {
   "cell_type": "code",
   "execution_count": null,
   "metadata": {},
   "outputs": [],
   "source": []
  }
 ],
 "metadata": {
  "kernelspec": {
   "display_name": "Python 3",
   "language": "python",
   "name": "python3"
  },
  "language_info": {
   "codemirror_mode": {
    "name": "ipython",
    "version": 3
   },
   "file_extension": ".py",
   "mimetype": "text/x-python",
   "name": "python",
   "nbconvert_exporter": "python",
   "pygments_lexer": "ipython3",
   "version": "3.10.3"
  },
  "orig_nbformat": 4,
  "vscode": {
   "interpreter": {
    "hash": "5bd619618230b09d5d3e05a2fee0ab06fc16f3274a0e31eba6b2efbcbb9b42ae"
   }
  }
 },
 "nbformat": 4,
 "nbformat_minor": 2
}
