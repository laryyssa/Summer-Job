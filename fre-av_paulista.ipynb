{
 "cells": [
  {
   "cell_type": "code",
   "execution_count": 1,
   "metadata": {},
   "outputs": [],
   "source": [
    "import pandas as pd\n",
    "import plotly.express as px\n",
    "import plotly.graph_objs as go\n",
    "import numpy as np"
   ]
  },
  {
   "cell_type": "code",
   "execution_count": 2,
   "metadata": {},
   "outputs": [],
   "source": [
    "stop_times = pd.read_csv('dados\\paradas\\stop_times.txt', sep=',')\n",
    "stop_times['arrival_time'] = pd.to_datetime(stop_times['arrival_time'])\n",
    "stop_times['hour'] = stop_times['arrival_time'].dt.hour"
   ]
  },
  {
   "cell_type": "code",
   "execution_count": 3,
   "metadata": {},
   "outputs": [],
   "source": [
    "stops = pd.read_csv('dados\\paradas\\stops.txt', sep=',')"
   ]
  },
  {
   "cell_type": "code",
   "execution_count": 4,
   "metadata": {},
   "outputs": [
    {
     "name": "stdout",
     "output_type": "stream",
     "text": [
      "trip_id           95731\n",
      "arrival_time      95731\n",
      "departure_time    95731\n",
      "stop_id           95731\n",
      "stop_sequence     95731\n",
      "hour              95731\n",
      "stop_name         95731\n",
      "stop_desc         92027\n",
      "stop_lat          95731\n",
      "stop_lon          95731\n",
      "dtype: int64\n"
     ]
    }
   ],
   "source": [
    "events = pd.merge(stop_times, stops, on='stop_id')\n",
    "print(events.count())"
   ]
  },
  {
   "cell_type": "code",
   "execution_count": 5,
   "metadata": {},
   "outputs": [
    {
     "name": "stdout",
     "output_type": "stream",
     "text": [
      "            stop_id  stop_sequence        hour    stop_lat    stop_lon\n",
      "count  2.270000e+02     227.000000  227.000000  227.000000  227.000000\n",
      "mean   2.476644e+08      26.594714   13.700441  -23.563351  -46.654006\n",
      "std    2.582672e+08      15.886031    4.393091    0.004909    0.005827\n",
      "min    7.063040e+05       3.000000    0.000000  -23.570405  -46.663271\n",
      "25%    7.001678e+07      12.000000   11.000000  -23.567308  -46.659585\n",
      "50%    7.001692e+07      24.000000   16.000000  -23.562931  -46.654428\n",
      "75%    4.400169e+08      38.500000   17.000000  -23.558947  -46.649529\n",
      "max    9.200167e+08      66.000000   18.000000  -23.555195  -46.645227\n",
      "            stop_id  stop_sequence       hour   stop_lat   stop_lon\n",
      "count  3.600000e+01      36.000000  36.000000  36.000000  36.000000\n",
      "mean   9.939863e+07      20.583333  14.111111 -23.561787 -46.654936\n",
      "std    1.117501e+08      13.472459   4.596755   0.003420   0.005153\n",
      "min    7.063080e+05       8.000000   0.000000 -23.566211 -46.659175\n",
      "25%    7.063080e+05      11.000000  14.500000 -23.566211 -46.659175\n",
      "50%    7.001692e+07      13.500000  16.000000 -23.559461 -46.658509\n",
      "75%    2.600169e+08      30.000000  17.000000 -23.558768 -46.648198\n",
      "max    2.600169e+08      59.000000  18.000000 -23.558768 -46.648198\n",
      "            stop_id    trip_id  arrival_time  departure_time  stop_sequence  \\\n",
      "count  1.700000e+01  17.000000     17.000000       17.000000      17.000000   \n",
      "mean   2.028611e+08  15.470588     15.470588       15.470588      15.470588   \n",
      "std    2.449424e+08   4.744966      4.744966        4.744966       4.744966   \n",
      "min    7.063040e+05   2.000000      2.000000        2.000000       2.000000   \n",
      "25%    7.001595e+07  13.000000     13.000000       13.000000      13.000000   \n",
      "50%    7.001692e+07  18.000000     18.000000       18.000000      18.000000   \n",
      "75%    2.600169e+08  18.000000     18.000000       18.000000      18.000000   \n",
      "max    9.200167e+08  21.000000     21.000000       21.000000      21.000000   \n",
      "\n",
      "            hour  stop_name  stop_desc   stop_lat   stop_lon  \n",
      "count  17.000000  17.000000  17.000000  17.000000  17.000000  \n",
      "mean   15.470588  15.470588  15.470588  15.470588  15.470588  \n",
      "std     4.744966   4.744966   4.744966   4.744966   4.744966  \n",
      "min     2.000000   2.000000   2.000000   2.000000   2.000000  \n",
      "25%    13.000000  13.000000  13.000000  13.000000  13.000000  \n",
      "50%    18.000000  18.000000  18.000000  18.000000  18.000000  \n",
      "75%    18.000000  18.000000  18.000000  18.000000  18.000000  \n",
      "max    21.000000  21.000000  21.000000  21.000000  21.000000  \n"
     ]
    }
   ],
   "source": [
    "av_paulista1 = events[events['stop_name'].str.contains(\"Av. Paulista\", case=False, na=False)]\n",
    "print(av_paulista1.describe())\n",
    "av_paulista2 = events[events['stop_desc'].str.contains(\"Av. Paulista\", case=False, na=False)]\n",
    "print(av_paulista2.describe())\n",
    "\n",
    "av_paulista = pd.concat([av_paulista1,av_paulista2],ignore_index=True).drop_duplicates()\n",
    "av_paulista = av_paulista.groupby('stop_id', as_index=False).count()\n",
    "print(av_paulista.describe())"
   ]
  },
  {
   "cell_type": "code",
   "execution_count": 6,
   "metadata": {},
   "outputs": [],
   "source": [
    "stps = [18850, 18858, 18859, 706354, 9206289, \n",
    "        70015949, 70016782, 70016834, 70016916, \n",
    "        70016918, 70016924, 260016780, 260016919, \n",
    "        260016920, 440016921, 440016922, 440016923,\n",
    "        920016411, 920016731]\n",
    "\n",
    "av_paulista = events[events['stop_id'].isin(stps)]\n"
   ]
  },
  {
   "cell_type": "code",
   "execution_count": 7,
   "metadata": {},
   "outputs": [
    {
     "name": "stdout",
     "output_type": "stream",
     "text": [
      "      stop_id  qtd                      stop_name  \\\n",
      "0       18850    2                     Consolação   \n",
      "1       18858    2                     Brigadeiro   \n",
      "2       18859    2                   Trianon-masp   \n",
      "3     9206289   20  Av. Bernardino De Campos, 108   \n",
      "4    70015949   20             Av. Paulista, 1754   \n",
      "5    70016782   18              Av. Paulista, 200   \n",
      "6    70016834   18              Av. Paulista, 500   \n",
      "7    70016916   18             Av. Paulista, 1374   \n",
      "8    70016918   10                  Frei Caneca 1   \n",
      "9    70016924   17              Av. Paulista, 659   \n",
      "10  260016780   13             Av. Paulista, 2319   \n",
      "11  260016919   11                  Frei Caneca 2   \n",
      "12  260016920   15             Av. Paulista, 2452   \n",
      "13  440016921   21             Av. Paulista, 2027   \n",
      "14  440016922   19             Av. Paulista, 1578   \n",
      "15  440016923   19              Av. Paulista, 901   \n",
      "16  920016411   22  Av. Bernardino De Campos, 159   \n",
      "17  920016731   18              Av. Paulista, 171   \n",
      "\n",
      "                                            stop_desc   stop_lat   stop_lon  \n",
      "0                                                 NaN -23.558094 -46.660205  \n",
      "1                                                 NaN -23.567615 -46.649027  \n",
      "2                                                 NaN -23.563570 -46.653893  \n",
      "3                               Ref.: R Abilio Soares -23.572471 -46.643109  \n",
      "4   Ref.: R Peixoto Gomide/ Al Ministro Rocha Azevedo -23.560303 -46.657365  \n",
      "5        Ref.: R Leoncio De Carvalho/ Pc Oswaldo Cruz -23.570405 -46.645227  \n",
      "6   Ref.: Av Brigadeiro Luis Antonio/ R Carlos Sam... -23.568023 -46.648338  \n",
      "7                       Ref.: Al Rio Claro/ R Itapeva -23.562931 -46.654428  \n",
      "8   Av. Paulista, 1912 Ref.: Al Ministro Rocha Aze... -23.559461 -46.658509  \n",
      "9   Ref.: Av Brigadeiro Luis Antonio/ Al Joaquim E... -23.567308 -46.649529  \n",
      "10                Ref.: R Bela Cintra/ R Haddock Lobo -23.557130 -46.661572  \n",
      "11  Av. Paulista, 2026 Ref.: R Padre Joao Manuel/ ... -23.558768 -46.659175  \n",
      "12               Ref.: R Bela Cintra/ R Da Consolacao -23.556066 -46.662369  \n",
      "13  Ref.: R Padre Joao Manuel/ R Augusta -- Conjun... -23.558947 -46.659585  \n",
      "14  Ref.: R Plinio Figueiredo/ Tunel Daher Elias C... -23.561459 -46.656550  \n",
      "15      Ref.: Al Joaquim Eugenio De Lima/ Al Campinas -23.565789 -46.651451  \n",
      "16                   Ref.: R Treze De Maio/ R Paraiso -23.572600 -46.642775  \n",
      "17   Ref.: R Leoncio De Carvalho/ R Teixeira Da Silva -23.570159 -46.645986  \n"
     ]
    }
   ],
   "source": [
    "#filter_es_morning = av_paulista.loc[(av_paulista['hour'] >= 7) & (av_paulista['hour'] < 9)].groupby('stop_id', as_index=False).count()\n",
    "filter_es_morning = av_paulista.groupby('stop_id', as_index=False).count()\n",
    "filter_es_morning = filter_es_morning[['stop_id', 'trip_id']]\n",
    "filter_es_morning = filter_es_morning.rename(columns={'trip_id': 'qtd'})\n",
    "\n",
    "\n",
    "filter_es_morning= pd.merge(filter_es_morning, stops, on='stop_id')\n",
    "print(filter_es_morning)\n"
   ]
  },
  {
   "cell_type": "code",
   "execution_count": 8,
   "metadata": {},
   "outputs": [
    {
     "data": {
      "application/vnd.plotly.v1+json": {
       "config": {
        "plotlyServerURL": "https://plot.ly"
       },
       "data": [
        {
         "hovertemplate": "stop_lat=%{lat}<br>stop_lon=%{lon}<extra></extra>",
         "lat": [
          -23.558094,
          -23.567615,
          -23.56357,
          -23.572471,
          -23.560303,
          -23.570405,
          -23.568023,
          -23.562931,
          -23.559461,
          -23.567308,
          -23.55713,
          -23.558768,
          -23.556066,
          -23.558947,
          -23.561459,
          -23.565789,
          -23.5726,
          -23.570159
         ],
         "legendgroup": "",
         "lon": [
          -46.660205,
          -46.649027,
          -46.653893,
          -46.643109,
          -46.657365,
          -46.645227,
          -46.648338,
          -46.654428,
          -46.658509,
          -46.649529,
          -46.661572,
          -46.659175,
          -46.662369,
          -46.659585,
          -46.65655,
          -46.651451,
          -46.642775,
          -46.645986
         ],
         "marker": {
          "color": "#636efa"
         },
         "mode": "markers",
         "name": "",
         "showlegend": false,
         "subplot": "mapbox",
         "type": "scattermapbox"
        },
        {
         "lat": [
          -23.558094,
          -23.567615,
          -23.56357,
          -23.572471,
          -23.560303,
          -23.570405,
          -23.568023,
          -23.562931,
          -23.559461,
          -23.567308,
          -23.55713,
          -23.558768,
          -23.556066,
          -23.558947,
          -23.561459,
          -23.565789,
          -23.5726,
          -23.570159
         ],
         "lon": [
          -46.660205,
          -46.649027,
          -46.653893,
          -46.643109,
          -46.657365,
          -46.645227,
          -46.648338,
          -46.654428,
          -46.658509,
          -46.649529,
          -46.661572,
          -46.659175,
          -46.662369,
          -46.659585,
          -46.65655,
          -46.651451,
          -46.642775,
          -46.645986
         ],
         "marker": {
          "color": [
           "blue",
           "blue",
           "blue",
           "red",
           "red",
           "red",
           "red",
           "red",
           "red",
           "red",
           "red",
           "red",
           "red",
           "red",
           "red",
           "red",
           "red",
           "red"
          ],
          "size": [
           4,
           4,
           4,
           10,
           10,
           10,
           10,
           10,
           10,
           10,
           10,
           10,
           10,
           10,
           10,
           10,
           10,
           10
          ]
         },
         "mode": "markers",
         "type": "scattermapbox"
        }
       ],
       "layout": {
        "height": 500,
        "legend": {
         "tracegroupgap": 0
        },
        "mapbox": {
         "center": {
          "lat": -23.563949944444445,
          "lon": -46.65328294444444
         },
         "domain": {
          "x": [
           0,
           1
          ],
          "y": [
           0,
           1
          ]
         },
         "style": "open-street-map",
         "zoom": 9
        },
        "margin": {
         "b": 0,
         "l": 0,
         "r": 0,
         "t": 0
        },
        "template": {
         "data": {
          "bar": [
           {
            "error_x": {
             "color": "#2a3f5f"
            },
            "error_y": {
             "color": "#2a3f5f"
            },
            "marker": {
             "line": {
              "color": "#E5ECF6",
              "width": 0.5
             },
             "pattern": {
              "fillmode": "overlay",
              "size": 10,
              "solidity": 0.2
             }
            },
            "type": "bar"
           }
          ],
          "barpolar": [
           {
            "marker": {
             "line": {
              "color": "#E5ECF6",
              "width": 0.5
             },
             "pattern": {
              "fillmode": "overlay",
              "size": 10,
              "solidity": 0.2
             }
            },
            "type": "barpolar"
           }
          ],
          "carpet": [
           {
            "aaxis": {
             "endlinecolor": "#2a3f5f",
             "gridcolor": "white",
             "linecolor": "white",
             "minorgridcolor": "white",
             "startlinecolor": "#2a3f5f"
            },
            "baxis": {
             "endlinecolor": "#2a3f5f",
             "gridcolor": "white",
             "linecolor": "white",
             "minorgridcolor": "white",
             "startlinecolor": "#2a3f5f"
            },
            "type": "carpet"
           }
          ],
          "choropleth": [
           {
            "colorbar": {
             "outlinewidth": 0,
             "ticks": ""
            },
            "type": "choropleth"
           }
          ],
          "contour": [
           {
            "colorbar": {
             "outlinewidth": 0,
             "ticks": ""
            },
            "colorscale": [
             [
              0,
              "#0d0887"
             ],
             [
              0.1111111111111111,
              "#46039f"
             ],
             [
              0.2222222222222222,
              "#7201a8"
             ],
             [
              0.3333333333333333,
              "#9c179e"
             ],
             [
              0.4444444444444444,
              "#bd3786"
             ],
             [
              0.5555555555555556,
              "#d8576b"
             ],
             [
              0.6666666666666666,
              "#ed7953"
             ],
             [
              0.7777777777777778,
              "#fb9f3a"
             ],
             [
              0.8888888888888888,
              "#fdca26"
             ],
             [
              1,
              "#f0f921"
             ]
            ],
            "type": "contour"
           }
          ],
          "contourcarpet": [
           {
            "colorbar": {
             "outlinewidth": 0,
             "ticks": ""
            },
            "type": "contourcarpet"
           }
          ],
          "heatmap": [
           {
            "colorbar": {
             "outlinewidth": 0,
             "ticks": ""
            },
            "colorscale": [
             [
              0,
              "#0d0887"
             ],
             [
              0.1111111111111111,
              "#46039f"
             ],
             [
              0.2222222222222222,
              "#7201a8"
             ],
             [
              0.3333333333333333,
              "#9c179e"
             ],
             [
              0.4444444444444444,
              "#bd3786"
             ],
             [
              0.5555555555555556,
              "#d8576b"
             ],
             [
              0.6666666666666666,
              "#ed7953"
             ],
             [
              0.7777777777777778,
              "#fb9f3a"
             ],
             [
              0.8888888888888888,
              "#fdca26"
             ],
             [
              1,
              "#f0f921"
             ]
            ],
            "type": "heatmap"
           }
          ],
          "heatmapgl": [
           {
            "colorbar": {
             "outlinewidth": 0,
             "ticks": ""
            },
            "colorscale": [
             [
              0,
              "#0d0887"
             ],
             [
              0.1111111111111111,
              "#46039f"
             ],
             [
              0.2222222222222222,
              "#7201a8"
             ],
             [
              0.3333333333333333,
              "#9c179e"
             ],
             [
              0.4444444444444444,
              "#bd3786"
             ],
             [
              0.5555555555555556,
              "#d8576b"
             ],
             [
              0.6666666666666666,
              "#ed7953"
             ],
             [
              0.7777777777777778,
              "#fb9f3a"
             ],
             [
              0.8888888888888888,
              "#fdca26"
             ],
             [
              1,
              "#f0f921"
             ]
            ],
            "type": "heatmapgl"
           }
          ],
          "histogram": [
           {
            "marker": {
             "pattern": {
              "fillmode": "overlay",
              "size": 10,
              "solidity": 0.2
             }
            },
            "type": "histogram"
           }
          ],
          "histogram2d": [
           {
            "colorbar": {
             "outlinewidth": 0,
             "ticks": ""
            },
            "colorscale": [
             [
              0,
              "#0d0887"
             ],
             [
              0.1111111111111111,
              "#46039f"
             ],
             [
              0.2222222222222222,
              "#7201a8"
             ],
             [
              0.3333333333333333,
              "#9c179e"
             ],
             [
              0.4444444444444444,
              "#bd3786"
             ],
             [
              0.5555555555555556,
              "#d8576b"
             ],
             [
              0.6666666666666666,
              "#ed7953"
             ],
             [
              0.7777777777777778,
              "#fb9f3a"
             ],
             [
              0.8888888888888888,
              "#fdca26"
             ],
             [
              1,
              "#f0f921"
             ]
            ],
            "type": "histogram2d"
           }
          ],
          "histogram2dcontour": [
           {
            "colorbar": {
             "outlinewidth": 0,
             "ticks": ""
            },
            "colorscale": [
             [
              0,
              "#0d0887"
             ],
             [
              0.1111111111111111,
              "#46039f"
             ],
             [
              0.2222222222222222,
              "#7201a8"
             ],
             [
              0.3333333333333333,
              "#9c179e"
             ],
             [
              0.4444444444444444,
              "#bd3786"
             ],
             [
              0.5555555555555556,
              "#d8576b"
             ],
             [
              0.6666666666666666,
              "#ed7953"
             ],
             [
              0.7777777777777778,
              "#fb9f3a"
             ],
             [
              0.8888888888888888,
              "#fdca26"
             ],
             [
              1,
              "#f0f921"
             ]
            ],
            "type": "histogram2dcontour"
           }
          ],
          "mesh3d": [
           {
            "colorbar": {
             "outlinewidth": 0,
             "ticks": ""
            },
            "type": "mesh3d"
           }
          ],
          "parcoords": [
           {
            "line": {
             "colorbar": {
              "outlinewidth": 0,
              "ticks": ""
             }
            },
            "type": "parcoords"
           }
          ],
          "pie": [
           {
            "automargin": true,
            "type": "pie"
           }
          ],
          "scatter": [
           {
            "fillpattern": {
             "fillmode": "overlay",
             "size": 10,
             "solidity": 0.2
            },
            "type": "scatter"
           }
          ],
          "scatter3d": [
           {
            "line": {
             "colorbar": {
              "outlinewidth": 0,
              "ticks": ""
             }
            },
            "marker": {
             "colorbar": {
              "outlinewidth": 0,
              "ticks": ""
             }
            },
            "type": "scatter3d"
           }
          ],
          "scattercarpet": [
           {
            "marker": {
             "colorbar": {
              "outlinewidth": 0,
              "ticks": ""
             }
            },
            "type": "scattercarpet"
           }
          ],
          "scattergeo": [
           {
            "marker": {
             "colorbar": {
              "outlinewidth": 0,
              "ticks": ""
             }
            },
            "type": "scattergeo"
           }
          ],
          "scattergl": [
           {
            "marker": {
             "colorbar": {
              "outlinewidth": 0,
              "ticks": ""
             }
            },
            "type": "scattergl"
           }
          ],
          "scattermapbox": [
           {
            "marker": {
             "colorbar": {
              "outlinewidth": 0,
              "ticks": ""
             }
            },
            "type": "scattermapbox"
           }
          ],
          "scatterpolar": [
           {
            "marker": {
             "colorbar": {
              "outlinewidth": 0,
              "ticks": ""
             }
            },
            "type": "scatterpolar"
           }
          ],
          "scatterpolargl": [
           {
            "marker": {
             "colorbar": {
              "outlinewidth": 0,
              "ticks": ""
             }
            },
            "type": "scatterpolargl"
           }
          ],
          "scatterternary": [
           {
            "marker": {
             "colorbar": {
              "outlinewidth": 0,
              "ticks": ""
             }
            },
            "type": "scatterternary"
           }
          ],
          "surface": [
           {
            "colorbar": {
             "outlinewidth": 0,
             "ticks": ""
            },
            "colorscale": [
             [
              0,
              "#0d0887"
             ],
             [
              0.1111111111111111,
              "#46039f"
             ],
             [
              0.2222222222222222,
              "#7201a8"
             ],
             [
              0.3333333333333333,
              "#9c179e"
             ],
             [
              0.4444444444444444,
              "#bd3786"
             ],
             [
              0.5555555555555556,
              "#d8576b"
             ],
             [
              0.6666666666666666,
              "#ed7953"
             ],
             [
              0.7777777777777778,
              "#fb9f3a"
             ],
             [
              0.8888888888888888,
              "#fdca26"
             ],
             [
              1,
              "#f0f921"
             ]
            ],
            "type": "surface"
           }
          ],
          "table": [
           {
            "cells": {
             "fill": {
              "color": "#EBF0F8"
             },
             "line": {
              "color": "white"
             }
            },
            "header": {
             "fill": {
              "color": "#C8D4E3"
             },
             "line": {
              "color": "white"
             }
            },
            "type": "table"
           }
          ]
         },
         "layout": {
          "annotationdefaults": {
           "arrowcolor": "#2a3f5f",
           "arrowhead": 0,
           "arrowwidth": 1
          },
          "autotypenumbers": "strict",
          "coloraxis": {
           "colorbar": {
            "outlinewidth": 0,
            "ticks": ""
           }
          },
          "colorscale": {
           "diverging": [
            [
             0,
             "#8e0152"
            ],
            [
             0.1,
             "#c51b7d"
            ],
            [
             0.2,
             "#de77ae"
            ],
            [
             0.3,
             "#f1b6da"
            ],
            [
             0.4,
             "#fde0ef"
            ],
            [
             0.5,
             "#f7f7f7"
            ],
            [
             0.6,
             "#e6f5d0"
            ],
            [
             0.7,
             "#b8e186"
            ],
            [
             0.8,
             "#7fbc41"
            ],
            [
             0.9,
             "#4d9221"
            ],
            [
             1,
             "#276419"
            ]
           ],
           "sequential": [
            [
             0,
             "#0d0887"
            ],
            [
             0.1111111111111111,
             "#46039f"
            ],
            [
             0.2222222222222222,
             "#7201a8"
            ],
            [
             0.3333333333333333,
             "#9c179e"
            ],
            [
             0.4444444444444444,
             "#bd3786"
            ],
            [
             0.5555555555555556,
             "#d8576b"
            ],
            [
             0.6666666666666666,
             "#ed7953"
            ],
            [
             0.7777777777777778,
             "#fb9f3a"
            ],
            [
             0.8888888888888888,
             "#fdca26"
            ],
            [
             1,
             "#f0f921"
            ]
           ],
           "sequentialminus": [
            [
             0,
             "#0d0887"
            ],
            [
             0.1111111111111111,
             "#46039f"
            ],
            [
             0.2222222222222222,
             "#7201a8"
            ],
            [
             0.3333333333333333,
             "#9c179e"
            ],
            [
             0.4444444444444444,
             "#bd3786"
            ],
            [
             0.5555555555555556,
             "#d8576b"
            ],
            [
             0.6666666666666666,
             "#ed7953"
            ],
            [
             0.7777777777777778,
             "#fb9f3a"
            ],
            [
             0.8888888888888888,
             "#fdca26"
            ],
            [
             1,
             "#f0f921"
            ]
           ]
          },
          "colorway": [
           "#636efa",
           "#EF553B",
           "#00cc96",
           "#ab63fa",
           "#FFA15A",
           "#19d3f3",
           "#FF6692",
           "#B6E880",
           "#FF97FF",
           "#FECB52"
          ],
          "font": {
           "color": "#2a3f5f"
          },
          "geo": {
           "bgcolor": "white",
           "lakecolor": "white",
           "landcolor": "#E5ECF6",
           "showlakes": true,
           "showland": true,
           "subunitcolor": "white"
          },
          "hoverlabel": {
           "align": "left"
          },
          "hovermode": "closest",
          "mapbox": {
           "style": "light"
          },
          "paper_bgcolor": "white",
          "plot_bgcolor": "#E5ECF6",
          "polar": {
           "angularaxis": {
            "gridcolor": "white",
            "linecolor": "white",
            "ticks": ""
           },
           "bgcolor": "#E5ECF6",
           "radialaxis": {
            "gridcolor": "white",
            "linecolor": "white",
            "ticks": ""
           }
          },
          "scene": {
           "xaxis": {
            "backgroundcolor": "#E5ECF6",
            "gridcolor": "white",
            "gridwidth": 2,
            "linecolor": "white",
            "showbackground": true,
            "ticks": "",
            "zerolinecolor": "white"
           },
           "yaxis": {
            "backgroundcolor": "#E5ECF6",
            "gridcolor": "white",
            "gridwidth": 2,
            "linecolor": "white",
            "showbackground": true,
            "ticks": "",
            "zerolinecolor": "white"
           },
           "zaxis": {
            "backgroundcolor": "#E5ECF6",
            "gridcolor": "white",
            "gridwidth": 2,
            "linecolor": "white",
            "showbackground": true,
            "ticks": "",
            "zerolinecolor": "white"
           }
          },
          "shapedefaults": {
           "line": {
            "color": "#2a3f5f"
           }
          },
          "ternary": {
           "aaxis": {
            "gridcolor": "white",
            "linecolor": "white",
            "ticks": ""
           },
           "baxis": {
            "gridcolor": "white",
            "linecolor": "white",
            "ticks": ""
           },
           "bgcolor": "#E5ECF6",
           "caxis": {
            "gridcolor": "white",
            "linecolor": "white",
            "ticks": ""
           }
          },
          "title": {
           "x": 0.05
          },
          "xaxis": {
           "automargin": true,
           "gridcolor": "white",
           "linecolor": "white",
           "ticks": "",
           "title": {
            "standoff": 15
           },
           "zerolinecolor": "white",
           "zerolinewidth": 2
          },
          "yaxis": {
           "automargin": true,
           "gridcolor": "white",
           "linecolor": "white",
           "ticks": "",
           "title": {
            "standoff": 15
           },
           "zerolinecolor": "white",
           "zerolinewidth": 2
          }
         }
        },
        "width": 600
       }
      }
     },
     "metadata": {},
     "output_type": "display_data"
    }
   ],
   "source": [
    "fig = go.Figure()\n",
    "\n",
    "fig = px.scatter_mapbox(filter_es_morning, lat=\"stop_lat\", lon=\"stop_lon\", zoom=9, width=600, height=500)\n",
    "fig.update_layout(mapbox_style=\"open-street-map\")\n",
    "fig.update_layout(margin={\"r\":0,\"t\":0,\"l\":0,\"b\":0})\n",
    "\n",
    "def SetColor(df):\n",
    "    values = df['qtd'].tolist()\n",
    "    color_list = []\n",
    "    for i in values:\n",
    "        if(i >= 10):\n",
    "            color_list.append(\"red\")\n",
    "        else:\n",
    "            color_list.append(\"blue\")\n",
    "    \n",
    "    return color_list\n",
    "\n",
    "def SetSize(df):\n",
    "    values = df['qtd'].tolist()\n",
    "    color_list = []\n",
    "    for i in values:\n",
    "        if(i >= 10):\n",
    "            color_list.append(10)\n",
    "        else:\n",
    "            color_list.append(4)\n",
    "    \n",
    "    return color_list\n",
    "\n",
    "fig.add_trace(go.Scattermapbox(\n",
    "        lat=filter_es_morning['stop_lat'].tolist(),\n",
    "        lon=filter_es_morning['stop_lon'].tolist(),\n",
    "        mode='markers',\n",
    "        marker=go.scattermapbox.Marker(\n",
    "            size= SetSize(filter_es_morning),\n",
    "            color= SetColor(filter_es_morning)  #function gets called here and will return a list of colors, (i.e. ['green', 'blue', 'red', 'green'])\n",
    "        ),\n",
    "    )\n",
    ")\n",
    "\n",
    "fig.show()"
   ]
  }
 ],
 "metadata": {
  "kernelspec": {
   "display_name": "Python 3",
   "language": "python",
   "name": "python3"
  },
  "language_info": {
   "codemirror_mode": {
    "name": "ipython",
    "version": 3
   },
   "file_extension": ".py",
   "mimetype": "text/x-python",
   "name": "python",
   "nbconvert_exporter": "python",
   "pygments_lexer": "ipython3",
   "version": "3.10.3"
  },
  "orig_nbformat": 4,
  "vscode": {
   "interpreter": {
    "hash": "5bd619618230b09d5d3e05a2fee0ab06fc16f3274a0e31eba6b2efbcbb9b42ae"
   }
  }
 },
 "nbformat": 4,
 "nbformat_minor": 2
}
