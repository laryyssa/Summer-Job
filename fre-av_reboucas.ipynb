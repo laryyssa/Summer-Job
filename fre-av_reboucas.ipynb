{
 "cells": [
  {
   "cell_type": "code",
   "execution_count": 3,
   "metadata": {},
   "outputs": [],
   "source": [
    "import pandas as pd\n",
    "import plotly.express as px\n",
    "import plotly.graph_objs as go\n",
    "import numpy as np"
   ]
  },
  {
   "cell_type": "code",
   "execution_count": 4,
   "metadata": {},
   "outputs": [],
   "source": [
    "stop_times = pd.read_csv('dados\\paradas\\stop_times.txt', sep=',')\n",
    "stop_times['arrival_time'] = pd.to_datetime(stop_times['arrival_time'])\n",
    "stop_times['hour'] = stop_times['arrival_time'].dt.hour"
   ]
  },
  {
   "cell_type": "code",
   "execution_count": 5,
   "metadata": {},
   "outputs": [],
   "source": [
    "stops = pd.read_csv('dados\\paradas\\stops.txt', sep=',')"
   ]
  },
  {
   "cell_type": "code",
   "execution_count": 6,
   "metadata": {},
   "outputs": [
    {
     "name": "stdout",
     "output_type": "stream",
     "text": [
      "trip_id           95731\n",
      "arrival_time      95731\n",
      "departure_time    95731\n",
      "stop_id           95731\n",
      "stop_sequence     95731\n",
      "hour              95731\n",
      "stop_name         95731\n",
      "stop_desc         92027\n",
      "stop_lat          95731\n",
      "stop_lon          95731\n",
      "dtype: int64\n"
     ]
    }
   ],
   "source": [
    "events = pd.merge(stop_times, stops, on='stop_id')\n",
    "print(events.count())"
   ]
  },
  {
   "cell_type": "code",
   "execution_count": null,
   "metadata": {},
   "outputs": [],
   "source": [
    "av_reboucas1 = events[events['stop_name'].str.contains(\"Av. Paulista\", case=False, na=False)]\n",
    "print(av_reboucas1.describe())\n",
    "av_reboucas2 = events[events['stop_desc'].str.contains(\"Av. Paulista\", case=False, na=False)]\n",
    "print(av_reboucas2.describe())\n",
    "\n",
    "av_reboucas = pd.concat([av_reboucas1,av_reboucas2],ignore_index=True).drop_duplicates()\n",
    "av_reboucas = av_reboucas.groupby('stop_id', as_index=False).count()\n",
    "print(av_reboucas.describe())"
   ]
  },
  {
   "cell_type": "code",
   "execution_count": 8,
   "metadata": {},
   "outputs": [
    {
     "name": "stdout",
     "output_type": "stream",
     "text": [
      "<bound method NDFrame.describe of          trip_id        arrival_time departure_time    stop_id  stop_sequence  \\\n",
      "23128  178L-10-0 2023-02-24 18:14:00       18:14:00  260016860             38   \n",
      "23129  669A-10-1 2023-02-24 16:24:00       16:24:00  260016860             11   \n",
      "23130  701A-10-0 2023-02-24 12:40:14       12:40:14  260016860             63   \n",
      "23131  701U-10-0 2023-02-24 08:25:45       08:25:45  260016860             16   \n",
      "23132  702C-10-1 2023-02-24 11:30:53       11:30:53  260016860             18   \n",
      "...          ...                 ...            ...        ...            ...   \n",
      "85786  715M-10-1 2023-02-24 16:40:15       16:40:15  630015011             22   \n",
      "85787  775P-10-1 2023-02-24 17:29:30       17:29:30  630015011             16   \n",
      "85788  809V-10-0 2023-02-24 16:56:30       16:56:30  630015011             31   \n",
      "85789  857P-10-1 2023-02-24 17:28:48       17:28:48  630015011             13   \n",
      "85790  857R-10-1 2023-02-24 17:55:48       17:55:48  630015011             28   \n",
      "\n",
      "       hour                  stop_name  \\\n",
      "23128    18             Caio Prado C/B   \n",
      "23129    16             Caio Prado C/B   \n",
      "23130    12             Caio Prado C/B   \n",
      "23131     8             Caio Prado C/B   \n",
      "23132    11             Caio Prado C/B   \n",
      "...     ...                        ...   \n",
      "85786    16  Parada 2 - Faria Lima C/B   \n",
      "85787    17  Parada 2 - Faria Lima C/B   \n",
      "85788    16  Parada 2 - Faria Lima C/B   \n",
      "85789    17  Parada 2 - Faria Lima C/B   \n",
      "85790    17  Parada 2 - Faria Lima C/B   \n",
      "\n",
      "                                               stop_desc   stop_lat   stop_lon  \n",
      "23128  R. Da Consolação, 896 Ref.: R Marques De Paran... -23.548312 -46.650406  \n",
      "23129  R. Da Consolação, 896 Ref.: R Marques De Paran... -23.548312 -46.650406  \n",
      "23130  R. Da Consolação, 896 Ref.: R Marques De Paran... -23.548312 -46.650406  \n",
      "23131  R. Da Consolação, 896 Ref.: R Marques De Paran... -23.548312 -46.650406  \n",
      "23132  R. Da Consolação, 896 Ref.: R Marques De Paran... -23.548312 -46.650406  \n",
      "...                                                  ...        ...        ...  \n",
      "85786  Av. Rebouças, 3215 Ref.: Cruzamento Av. Rebouç... -23.570905 -46.690499  \n",
      "85787  Av. Rebouças, 3215 Ref.: Cruzamento Av. Rebouç... -23.570905 -46.690499  \n",
      "85788  Av. Rebouças, 3215 Ref.: Cruzamento Av. Rebouç... -23.570905 -46.690499  \n",
      "85789  Av. Rebouças, 3215 Ref.: Cruzamento Av. Rebouç... -23.570905 -46.690499  \n",
      "85790  Av. Rebouças, 3215 Ref.: Cruzamento Av. Rebouç... -23.570905 -46.690499  \n",
      "\n",
      "[87 rows x 10 columns]>\n"
     ]
    }
   ],
   "source": [
    "stp = [630015016, 630015011, 6311298, 6311297, 260016861, 260016860]\n",
    "\n",
    "av_reboucas = events[events['stop_id'].isin(stp)]\n",
    "print(av_reboucas.describe)\n"
   ]
  },
  {
   "cell_type": "code",
   "execution_count": 9,
   "metadata": {},
   "outputs": [
    {
     "name": "stdout",
     "output_type": "stream",
     "text": [
      "     stop_id  qtd                  stop_name  \\\n",
      "0    6311297   14  Parada 1 - Faria Lima B/C   \n",
      "1    6311298   12  Parada 1 - Faria Lima C/B   \n",
      "2  260016860   24             Caio Prado C/B   \n",
      "3  260016861   26             Caio Prado B/C   \n",
      "4  630015011    5  Parada 2 - Faria Lima C/B   \n",
      "5  630015016    6  Parada 2 - Faria Lima B/C   \n",
      "\n",
      "                                           stop_desc   stop_lat   stop_lon  \n",
      "0  Av. Eusébio Matoso Ref.: Cruzamento Av. Eusébi... -23.571165 -46.691091  \n",
      "1  Av. Rebouças, 3215 Ref.: Cruzamento Av. Rebouç... -23.570806 -46.690569  \n",
      "2  R. Da Consolação, 896 Ref.: R Marques De Paran... -23.548312 -46.650406  \n",
      "3  R. Da Consolação, 901 Ref.: R Marques De Paran... -23.548174 -46.649565  \n",
      "4  Av. Rebouças, 3215 Ref.: Cruzamento Av. Rebouç... -23.570905 -46.690499  \n",
      "5  Av. Eusébio Matoso, 133 Ref.: Cruzamento Av. E... -23.571182 -46.691378  \n"
     ]
    }
   ],
   "source": [
    "#filter_es_morning = av_reboucas.loc[(av_reboucas['hour'] >= 7) & (av_reboucas['hour'] < 9)].groupby('stop_id', as_index=False).count()\n",
    "filter_es_morning = av_reboucas.groupby('stop_id', as_index=False).count()\n",
    "filter_es_morning = filter_es_morning[['stop_id', 'trip_id']]\n",
    "filter_es_morning = filter_es_morning.rename(columns={'trip_id': 'qtd'})\n",
    "\n",
    "\n",
    "filter_es_morning= pd.merge(filter_es_morning, stops, on='stop_id')\n",
    "print(filter_es_morning)\n"
   ]
  },
  {
   "cell_type": "code",
   "execution_count": 13,
   "metadata": {},
   "outputs": [
    {
     "data": {
      "application/vnd.plotly.v1+json": {
       "config": {
        "plotlyServerURL": "https://plot.ly"
       },
       "data": [
        {
         "hovertemplate": "stop_lat=%{lat}<br>stop_lon=%{lon}<extra></extra>",
         "lat": [
          -23.572471,
          -23.567308,
          -23.55713,
          -23.558947,
          -23.561459,
          -23.565789,
          -23.5726,
          -23.570159
         ],
         "legendgroup": "",
         "lon": [
          -46.643109,
          -46.649529,
          -46.661572,
          -46.659585,
          -46.65655,
          -46.651451,
          -46.642775,
          -46.645986
         ],
         "marker": {
          "color": "#636efa"
         },
         "mode": "markers",
         "name": "",
         "showlegend": false,
         "subplot": "mapbox",
         "type": "scattermapbox"
        },
        {
         "lat": [
          -23.572471,
          -23.567308,
          -23.55713,
          -23.558947,
          -23.561459,
          -23.565789,
          -23.5726,
          -23.570159
         ],
         "lon": [
          -46.643109,
          -46.649529,
          -46.661572,
          -46.659585,
          -46.65655,
          -46.651451,
          -46.642775,
          -46.645986
         ],
         "marker": {
          "color": [
           "blue",
           "blue",
           "blue",
           "blue",
           "blue",
           "blue",
           "blue",
           "blue"
          ],
          "size": [
           4,
           4,
           4,
           4,
           4,
           4,
           4,
           4
          ]
         },
         "mode": "markers",
         "type": "scattermapbox"
        }
       ],
       "layout": {
        "height": 500,
        "legend": {
         "tracegroupgap": 0
        },
        "mapbox": {
         "center": {
          "lat": -23.565732875000002,
          "lon": -46.651319625
         },
         "domain": {
          "x": [
           0,
           1
          ],
          "y": [
           0,
           1
          ]
         },
         "style": "open-street-map",
         "zoom": 9
        },
        "margin": {
         "b": 0,
         "l": 0,
         "r": 0,
         "t": 0
        },
        "template": {
         "data": {
          "bar": [
           {
            "error_x": {
             "color": "#2a3f5f"
            },
            "error_y": {
             "color": "#2a3f5f"
            },
            "marker": {
             "line": {
              "color": "#E5ECF6",
              "width": 0.5
             },
             "pattern": {
              "fillmode": "overlay",
              "size": 10,
              "solidity": 0.2
             }
            },
            "type": "bar"
           }
          ],
          "barpolar": [
           {
            "marker": {
             "line": {
              "color": "#E5ECF6",
              "width": 0.5
             },
             "pattern": {
              "fillmode": "overlay",
              "size": 10,
              "solidity": 0.2
             }
            },
            "type": "barpolar"
           }
          ],
          "carpet": [
           {
            "aaxis": {
             "endlinecolor": "#2a3f5f",
             "gridcolor": "white",
             "linecolor": "white",
             "minorgridcolor": "white",
             "startlinecolor": "#2a3f5f"
            },
            "baxis": {
             "endlinecolor": "#2a3f5f",
             "gridcolor": "white",
             "linecolor": "white",
             "minorgridcolor": "white",
             "startlinecolor": "#2a3f5f"
            },
            "type": "carpet"
           }
          ],
          "choropleth": [
           {
            "colorbar": {
             "outlinewidth": 0,
             "ticks": ""
            },
            "type": "choropleth"
           }
          ],
          "contour": [
           {
            "colorbar": {
             "outlinewidth": 0,
             "ticks": ""
            },
            "colorscale": [
             [
              0,
              "#0d0887"
             ],
             [
              0.1111111111111111,
              "#46039f"
             ],
             [
              0.2222222222222222,
              "#7201a8"
             ],
             [
              0.3333333333333333,
              "#9c179e"
             ],
             [
              0.4444444444444444,
              "#bd3786"
             ],
             [
              0.5555555555555556,
              "#d8576b"
             ],
             [
              0.6666666666666666,
              "#ed7953"
             ],
             [
              0.7777777777777778,
              "#fb9f3a"
             ],
             [
              0.8888888888888888,
              "#fdca26"
             ],
             [
              1,
              "#f0f921"
             ]
            ],
            "type": "contour"
           }
          ],
          "contourcarpet": [
           {
            "colorbar": {
             "outlinewidth": 0,
             "ticks": ""
            },
            "type": "contourcarpet"
           }
          ],
          "heatmap": [
           {
            "colorbar": {
             "outlinewidth": 0,
             "ticks": ""
            },
            "colorscale": [
             [
              0,
              "#0d0887"
             ],
             [
              0.1111111111111111,
              "#46039f"
             ],
             [
              0.2222222222222222,
              "#7201a8"
             ],
             [
              0.3333333333333333,
              "#9c179e"
             ],
             [
              0.4444444444444444,
              "#bd3786"
             ],
             [
              0.5555555555555556,
              "#d8576b"
             ],
             [
              0.6666666666666666,
              "#ed7953"
             ],
             [
              0.7777777777777778,
              "#fb9f3a"
             ],
             [
              0.8888888888888888,
              "#fdca26"
             ],
             [
              1,
              "#f0f921"
             ]
            ],
            "type": "heatmap"
           }
          ],
          "heatmapgl": [
           {
            "colorbar": {
             "outlinewidth": 0,
             "ticks": ""
            },
            "colorscale": [
             [
              0,
              "#0d0887"
             ],
             [
              0.1111111111111111,
              "#46039f"
             ],
             [
              0.2222222222222222,
              "#7201a8"
             ],
             [
              0.3333333333333333,
              "#9c179e"
             ],
             [
              0.4444444444444444,
              "#bd3786"
             ],
             [
              0.5555555555555556,
              "#d8576b"
             ],
             [
              0.6666666666666666,
              "#ed7953"
             ],
             [
              0.7777777777777778,
              "#fb9f3a"
             ],
             [
              0.8888888888888888,
              "#fdca26"
             ],
             [
              1,
              "#f0f921"
             ]
            ],
            "type": "heatmapgl"
           }
          ],
          "histogram": [
           {
            "marker": {
             "pattern": {
              "fillmode": "overlay",
              "size": 10,
              "solidity": 0.2
             }
            },
            "type": "histogram"
           }
          ],
          "histogram2d": [
           {
            "colorbar": {
             "outlinewidth": 0,
             "ticks": ""
            },
            "colorscale": [
             [
              0,
              "#0d0887"
             ],
             [
              0.1111111111111111,
              "#46039f"
             ],
             [
              0.2222222222222222,
              "#7201a8"
             ],
             [
              0.3333333333333333,
              "#9c179e"
             ],
             [
              0.4444444444444444,
              "#bd3786"
             ],
             [
              0.5555555555555556,
              "#d8576b"
             ],
             [
              0.6666666666666666,
              "#ed7953"
             ],
             [
              0.7777777777777778,
              "#fb9f3a"
             ],
             [
              0.8888888888888888,
              "#fdca26"
             ],
             [
              1,
              "#f0f921"
             ]
            ],
            "type": "histogram2d"
           }
          ],
          "histogram2dcontour": [
           {
            "colorbar": {
             "outlinewidth": 0,
             "ticks": ""
            },
            "colorscale": [
             [
              0,
              "#0d0887"
             ],
             [
              0.1111111111111111,
              "#46039f"
             ],
             [
              0.2222222222222222,
              "#7201a8"
             ],
             [
              0.3333333333333333,
              "#9c179e"
             ],
             [
              0.4444444444444444,
              "#bd3786"
             ],
             [
              0.5555555555555556,
              "#d8576b"
             ],
             [
              0.6666666666666666,
              "#ed7953"
             ],
             [
              0.7777777777777778,
              "#fb9f3a"
             ],
             [
              0.8888888888888888,
              "#fdca26"
             ],
             [
              1,
              "#f0f921"
             ]
            ],
            "type": "histogram2dcontour"
           }
          ],
          "mesh3d": [
           {
            "colorbar": {
             "outlinewidth": 0,
             "ticks": ""
            },
            "type": "mesh3d"
           }
          ],
          "parcoords": [
           {
            "line": {
             "colorbar": {
              "outlinewidth": 0,
              "ticks": ""
             }
            },
            "type": "parcoords"
           }
          ],
          "pie": [
           {
            "automargin": true,
            "type": "pie"
           }
          ],
          "scatter": [
           {
            "fillpattern": {
             "fillmode": "overlay",
             "size": 10,
             "solidity": 0.2
            },
            "type": "scatter"
           }
          ],
          "scatter3d": [
           {
            "line": {
             "colorbar": {
              "outlinewidth": 0,
              "ticks": ""
             }
            },
            "marker": {
             "colorbar": {
              "outlinewidth": 0,
              "ticks": ""
             }
            },
            "type": "scatter3d"
           }
          ],
          "scattercarpet": [
           {
            "marker": {
             "colorbar": {
              "outlinewidth": 0,
              "ticks": ""
             }
            },
            "type": "scattercarpet"
           }
          ],
          "scattergeo": [
           {
            "marker": {
             "colorbar": {
              "outlinewidth": 0,
              "ticks": ""
             }
            },
            "type": "scattergeo"
           }
          ],
          "scattergl": [
           {
            "marker": {
             "colorbar": {
              "outlinewidth": 0,
              "ticks": ""
             }
            },
            "type": "scattergl"
           }
          ],
          "scattermapbox": [
           {
            "marker": {
             "colorbar": {
              "outlinewidth": 0,
              "ticks": ""
             }
            },
            "type": "scattermapbox"
           }
          ],
          "scatterpolar": [
           {
            "marker": {
             "colorbar": {
              "outlinewidth": 0,
              "ticks": ""
             }
            },
            "type": "scatterpolar"
           }
          ],
          "scatterpolargl": [
           {
            "marker": {
             "colorbar": {
              "outlinewidth": 0,
              "ticks": ""
             }
            },
            "type": "scatterpolargl"
           }
          ],
          "scatterternary": [
           {
            "marker": {
             "colorbar": {
              "outlinewidth": 0,
              "ticks": ""
             }
            },
            "type": "scatterternary"
           }
          ],
          "surface": [
           {
            "colorbar": {
             "outlinewidth": 0,
             "ticks": ""
            },
            "colorscale": [
             [
              0,
              "#0d0887"
             ],
             [
              0.1111111111111111,
              "#46039f"
             ],
             [
              0.2222222222222222,
              "#7201a8"
             ],
             [
              0.3333333333333333,
              "#9c179e"
             ],
             [
              0.4444444444444444,
              "#bd3786"
             ],
             [
              0.5555555555555556,
              "#d8576b"
             ],
             [
              0.6666666666666666,
              "#ed7953"
             ],
             [
              0.7777777777777778,
              "#fb9f3a"
             ],
             [
              0.8888888888888888,
              "#fdca26"
             ],
             [
              1,
              "#f0f921"
             ]
            ],
            "type": "surface"
           }
          ],
          "table": [
           {
            "cells": {
             "fill": {
              "color": "#EBF0F8"
             },
             "line": {
              "color": "white"
             }
            },
            "header": {
             "fill": {
              "color": "#C8D4E3"
             },
             "line": {
              "color": "white"
             }
            },
            "type": "table"
           }
          ]
         },
         "layout": {
          "annotationdefaults": {
           "arrowcolor": "#2a3f5f",
           "arrowhead": 0,
           "arrowwidth": 1
          },
          "autotypenumbers": "strict",
          "coloraxis": {
           "colorbar": {
            "outlinewidth": 0,
            "ticks": ""
           }
          },
          "colorscale": {
           "diverging": [
            [
             0,
             "#8e0152"
            ],
            [
             0.1,
             "#c51b7d"
            ],
            [
             0.2,
             "#de77ae"
            ],
            [
             0.3,
             "#f1b6da"
            ],
            [
             0.4,
             "#fde0ef"
            ],
            [
             0.5,
             "#f7f7f7"
            ],
            [
             0.6,
             "#e6f5d0"
            ],
            [
             0.7,
             "#b8e186"
            ],
            [
             0.8,
             "#7fbc41"
            ],
            [
             0.9,
             "#4d9221"
            ],
            [
             1,
             "#276419"
            ]
           ],
           "sequential": [
            [
             0,
             "#0d0887"
            ],
            [
             0.1111111111111111,
             "#46039f"
            ],
            [
             0.2222222222222222,
             "#7201a8"
            ],
            [
             0.3333333333333333,
             "#9c179e"
            ],
            [
             0.4444444444444444,
             "#bd3786"
            ],
            [
             0.5555555555555556,
             "#d8576b"
            ],
            [
             0.6666666666666666,
             "#ed7953"
            ],
            [
             0.7777777777777778,
             "#fb9f3a"
            ],
            [
             0.8888888888888888,
             "#fdca26"
            ],
            [
             1,
             "#f0f921"
            ]
           ],
           "sequentialminus": [
            [
             0,
             "#0d0887"
            ],
            [
             0.1111111111111111,
             "#46039f"
            ],
            [
             0.2222222222222222,
             "#7201a8"
            ],
            [
             0.3333333333333333,
             "#9c179e"
            ],
            [
             0.4444444444444444,
             "#bd3786"
            ],
            [
             0.5555555555555556,
             "#d8576b"
            ],
            [
             0.6666666666666666,
             "#ed7953"
            ],
            [
             0.7777777777777778,
             "#fb9f3a"
            ],
            [
             0.8888888888888888,
             "#fdca26"
            ],
            [
             1,
             "#f0f921"
            ]
           ]
          },
          "colorway": [
           "#636efa",
           "#EF553B",
           "#00cc96",
           "#ab63fa",
           "#FFA15A",
           "#19d3f3",
           "#FF6692",
           "#B6E880",
           "#FF97FF",
           "#FECB52"
          ],
          "font": {
           "color": "#2a3f5f"
          },
          "geo": {
           "bgcolor": "white",
           "lakecolor": "white",
           "landcolor": "#E5ECF6",
           "showlakes": true,
           "showland": true,
           "subunitcolor": "white"
          },
          "hoverlabel": {
           "align": "left"
          },
          "hovermode": "closest",
          "mapbox": {
           "style": "light"
          },
          "paper_bgcolor": "white",
          "plot_bgcolor": "#E5ECF6",
          "polar": {
           "angularaxis": {
            "gridcolor": "white",
            "linecolor": "white",
            "ticks": ""
           },
           "bgcolor": "#E5ECF6",
           "radialaxis": {
            "gridcolor": "white",
            "linecolor": "white",
            "ticks": ""
           }
          },
          "scene": {
           "xaxis": {
            "backgroundcolor": "#E5ECF6",
            "gridcolor": "white",
            "gridwidth": 2,
            "linecolor": "white",
            "showbackground": true,
            "ticks": "",
            "zerolinecolor": "white"
           },
           "yaxis": {
            "backgroundcolor": "#E5ECF6",
            "gridcolor": "white",
            "gridwidth": 2,
            "linecolor": "white",
            "showbackground": true,
            "ticks": "",
            "zerolinecolor": "white"
           },
           "zaxis": {
            "backgroundcolor": "#E5ECF6",
            "gridcolor": "white",
            "gridwidth": 2,
            "linecolor": "white",
            "showbackground": true,
            "ticks": "",
            "zerolinecolor": "white"
           }
          },
          "shapedefaults": {
           "line": {
            "color": "#2a3f5f"
           }
          },
          "ternary": {
           "aaxis": {
            "gridcolor": "white",
            "linecolor": "white",
            "ticks": ""
           },
           "baxis": {
            "gridcolor": "white",
            "linecolor": "white",
            "ticks": ""
           },
           "bgcolor": "#E5ECF6",
           "caxis": {
            "gridcolor": "white",
            "linecolor": "white",
            "ticks": ""
           }
          },
          "title": {
           "x": 0.05
          },
          "xaxis": {
           "automargin": true,
           "gridcolor": "white",
           "linecolor": "white",
           "ticks": "",
           "title": {
            "standoff": 15
           },
           "zerolinecolor": "white",
           "zerolinewidth": 2
          },
          "yaxis": {
           "automargin": true,
           "gridcolor": "white",
           "linecolor": "white",
           "ticks": "",
           "title": {
            "standoff": 15
           },
           "zerolinecolor": "white",
           "zerolinewidth": 2
          }
         }
        },
        "width": 600
       }
      }
     },
     "metadata": {},
     "output_type": "display_data"
    }
   ],
   "source": [
    "fig = go.Figure()\n",
    "\n",
    "fig = px.scatter_mapbox(filter_es_morning, lat=\"stop_lat\", lon=\"stop_lon\", zoom=9, width=600, height=500)\n",
    "fig.update_layout(mapbox_style=\"open-street-map\")\n",
    "fig.update_layout(margin={\"r\":0,\"t\":0,\"l\":0,\"b\":0})\n",
    "\n",
    "def SetColor(df):\n",
    "    values = df['qtd'].tolist()\n",
    "    color_list = []\n",
    "    for i in values:\n",
    "        if(i >= 10):\n",
    "            color_list.append(\"red\")\n",
    "        else:\n",
    "            color_list.append(\"blue\")\n",
    "    \n",
    "    return color_list\n",
    "\n",
    "def SetSize(df):\n",
    "    values = df['qtd'].tolist()\n",
    "    color_list = []\n",
    "    for i in values:\n",
    "        if(i >= 10):\n",
    "            color_list.append(10)\n",
    "        else:\n",
    "            color_list.append(4)\n",
    "    \n",
    "    return color_list\n",
    "\n",
    "fig.add_trace(go.Scattermapbox(\n",
    "        lat=filter_es_morning['stop_lat'].tolist(),\n",
    "        lon=filter_es_morning['stop_lon'].tolist(),\n",
    "        mode='markers',\n",
    "        marker=go.scattermapbox.Marker(\n",
    "            size= SetSize(filter_es_morning),\n",
    "            color= SetColor(filter_es_morning)  #function gets called here and will return a list of colors, (i.e. ['green', 'blue', 'red', 'green'])\n",
    "        ),\n",
    "    )\n",
    ")\n",
    "\n",
    "fig.show()"
   ]
  }
 ],
 "metadata": {
  "kernelspec": {
   "display_name": "Python 3",
   "language": "python",
   "name": "python3"
  },
  "language_info": {
   "codemirror_mode": {
    "name": "ipython",
    "version": 3
   },
   "file_extension": ".py",
   "mimetype": "text/x-python",
   "name": "python",
   "nbconvert_exporter": "python",
   "pygments_lexer": "ipython3",
   "version": "3.10.3"
  },
  "orig_nbformat": 4,
  "vscode": {
   "interpreter": {
    "hash": "5bd619618230b09d5d3e05a2fee0ab06fc16f3274a0e31eba6b2efbcbb9b42ae"
   }
  }
 },
 "nbformat": 4,
 "nbformat_minor": 2
}
